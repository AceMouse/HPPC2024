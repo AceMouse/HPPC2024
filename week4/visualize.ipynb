from matplotlib import pyplot as plt
import numpy as np

data = np.loadtxt("seismogram.txt")

plt.figure()
plt.plot(np.arange(0,data.size)*2*np.pi / data.size, data, 'k.', markersize=0.2)
plt.ylabel("Amplitudes [1]")
plt.xlabel("Frequencies [Rad]")
plt.yscale('log')
